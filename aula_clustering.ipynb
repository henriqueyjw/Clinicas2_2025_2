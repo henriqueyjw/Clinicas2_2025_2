{
 "cells": [
  {
   "cell_type": "markdown",
   "id": "68eb362bf354ec27",
   "metadata": {},
   "source": [
    "# Clustering de texto\n",
    "\n",
    "É um método de exploração de textos a partir das informações contidas nestes sem uma pré-classificação.\n",
    "A preocupação desse método é como os textos estão divididos em relação a informação que eles possuem, mas sem uma pré-definição de como eles devem ser divididos, ou seja, esse método busca observar como os dados se comportam e a partir deles é proposto uma divisão.\n",
    "\n",
    "Qual o ganho com o Clustering?\n",
    "* Com as separações propostas, podemos observar quais textos são mais semelhantes um dos outros e coletar apenas os que são de interesse da pesquisa a partir do cluster.\n",
    "* É possível observar um texto mediano do cluster, que \"em tese\" contém a informação mais próxima do que os textos daquele cluster apresentam."
   ]
  },
  {
   "cell_type": "markdown",
   "id": "20159df6483adcec",
   "metadata": {},
   "source": [
    "## Inserção do _corpus_ de referência\n",
    "\n",
    "Nessa seção, vamos olhar primeiro como inserir e transformar os textos de referência para o RAG.\n",
    "* Leitura e tratamento de dados em pdf;\n",
    "* Leitura de páginas de internet;"
   ]
  },
  {
   "cell_type": "code",
   "execution_count": null,
   "id": "2ec867aa14564e37",
   "metadata": {
    "ExecuteTime": {
     "end_time": "2025-05-03T19:45:23.670790Z",
     "start_time": "2025-05-03T19:45:23.663864Z"
    }
   },
   "outputs": [
    {
     "name": "stdout",
     "output_type": "stream",
     "text": [
      "Looking in indexes: https://pypi.org/simple, https://pypi.ngc.nvidia.com\n",
      "Collecting pymupdf\n",
      "  Downloading pymupdf-1.26.0-cp39-abi3-win_amd64.whl.metadata (3.4 kB)\n",
      "Collecting langchain_community\n",
      "  Downloading langchain_community-0.3.24-py3-none-any.whl.metadata (2.5 kB)\n",
      "Collecting langchain_text_splitters\n",
      "  Downloading langchain_text_splitters-0.3.8-py3-none-any.whl.metadata (1.9 kB)\n",
      "Collecting langchain_experimental\n",
      "  Downloading langchain_experimental-0.3.4-py3-none-any.whl.metadata (1.7 kB)\n",
      "Collecting langchain\n",
      "  Downloading langchain-0.3.25-py3-none-any.whl.metadata (7.8 kB)\n",
      "Collecting langchain_core\n",
      "  Downloading langchain_core-0.3.61-py3-none-any.whl.metadata (5.8 kB)\n",
      "Requirement already satisfied: typing_extensions in d:\\anaconda3\\lib\\site-packages (4.12.2)\n",
      "Requirement already satisfied: SQLAlchemy<3,>=1.4 in d:\\anaconda3\\lib\\site-packages (from langchain_community) (2.0.37)\n",
      "Requirement already satisfied: requests<3,>=2 in d:\\anaconda3\\lib\\site-packages (from langchain_community) (2.32.3)\n",
      "Requirement already satisfied: PyYAML>=5.3 in d:\\anaconda3\\lib\\site-packages (from langchain_community) (6.0.2)\n",
      "Requirement already satisfied: aiohttp<4.0.0,>=3.8.3 in d:\\anaconda3\\lib\\site-packages (from langchain_community) (3.11.10)\n",
      "Requirement already satisfied: tenacity!=8.4.0,<10,>=8.1.0 in d:\\anaconda3\\lib\\site-packages (from langchain_community) (9.0.0)\n",
      "Collecting dataclasses-json<0.7,>=0.5.7 (from langchain_community)\n",
      "  Downloading dataclasses_json-0.6.7-py3-none-any.whl.metadata (25 kB)\n",
      "Requirement already satisfied: pydantic-settings<3.0.0,>=2.4.0 in d:\\anaconda3\\lib\\site-packages (from langchain_community) (2.6.1)\n",
      "Collecting langsmith<0.4,>=0.1.125 (from langchain_community)\n",
      "  Downloading langsmith-0.3.42-py3-none-any.whl.metadata (15 kB)\n",
      "Collecting httpx-sse<1.0.0,>=0.4.0 (from langchain_community)\n",
      "  Downloading httpx_sse-0.4.0-py3-none-any.whl.metadata (9.0 kB)\n",
      "Requirement already satisfied: numpy>=1.26.2 in d:\\anaconda3\\lib\\site-packages (from langchain_community) (1.26.4)\n",
      "Requirement already satisfied: pydantic<3.0.0,>=2.7.4 in d:\\anaconda3\\lib\\site-packages (from langchain) (2.10.3)\n",
      "Requirement already satisfied: jsonpatch<2.0,>=1.33 in d:\\anaconda3\\lib\\site-packages (from langchain_core) (1.33)\n",
      "Requirement already satisfied: packaging<25,>=23.2 in d:\\anaconda3\\lib\\site-packages (from langchain_core) (24.2)\n",
      "Requirement already satisfied: aiohappyeyeballs>=2.3.0 in d:\\anaconda3\\lib\\site-packages (from aiohttp<4.0.0,>=3.8.3->langchain_community) (2.4.4)\n",
      "Requirement already satisfied: aiosignal>=1.1.2 in d:\\anaconda3\\lib\\site-packages (from aiohttp<4.0.0,>=3.8.3->langchain_community) (1.2.0)\n",
      "Requirement already satisfied: attrs>=17.3.0 in d:\\anaconda3\\lib\\site-packages (from aiohttp<4.0.0,>=3.8.3->langchain_community) (24.3.0)\n",
      "Requirement already satisfied: frozenlist>=1.1.1 in d:\\anaconda3\\lib\\site-packages (from aiohttp<4.0.0,>=3.8.3->langchain_community) (1.5.0)\n",
      "Requirement already satisfied: multidict<7.0,>=4.5 in d:\\anaconda3\\lib\\site-packages (from aiohttp<4.0.0,>=3.8.3->langchain_community) (6.1.0)\n",
      "Requirement already satisfied: propcache>=0.2.0 in d:\\anaconda3\\lib\\site-packages (from aiohttp<4.0.0,>=3.8.3->langchain_community) (0.2.0)\n",
      "Requirement already satisfied: yarl<2.0,>=1.17.0 in d:\\anaconda3\\lib\\site-packages (from aiohttp<4.0.0,>=3.8.3->langchain_community) (1.18.0)\n",
      "Collecting marshmallow<4.0.0,>=3.18.0 (from dataclasses-json<0.7,>=0.5.7->langchain_community)\n",
      "  Downloading marshmallow-3.26.1-py3-none-any.whl.metadata (7.3 kB)\n",
      "Collecting typing-inspect<1,>=0.4.0 (from dataclasses-json<0.7,>=0.5.7->langchain_community)\n",
      "  Downloading typing_inspect-0.9.0-py3-none-any.whl.metadata (1.5 kB)\n",
      "Requirement already satisfied: jsonpointer>=1.9 in d:\\anaconda3\\lib\\site-packages (from jsonpatch<2.0,>=1.33->langchain_core) (2.1)\n",
      "Requirement already satisfied: httpx<1,>=0.23.0 in d:\\anaconda3\\lib\\site-packages (from langsmith<0.4,>=0.1.125->langchain_community) (0.27.0)\n",
      "Collecting orjson<4.0.0,>=3.9.14 (from langsmith<0.4,>=0.1.125->langchain_community)\n",
      "  Downloading orjson-3.10.18-cp312-cp312-win_amd64.whl.metadata (43 kB)\n",
      "Requirement already satisfied: requests-toolbelt<2.0.0,>=1.0.0 in d:\\anaconda3\\lib\\site-packages (from langsmith<0.4,>=0.1.125->langchain_community) (1.0.0)\n",
      "Requirement already satisfied: zstandard<0.24.0,>=0.23.0 in d:\\anaconda3\\lib\\site-packages (from langsmith<0.4,>=0.1.125->langchain_community) (0.23.0)\n",
      "Requirement already satisfied: annotated-types>=0.6.0 in d:\\anaconda3\\lib\\site-packages (from pydantic<3.0.0,>=2.7.4->langchain) (0.6.0)\n",
      "Requirement already satisfied: pydantic-core==2.27.1 in d:\\anaconda3\\lib\\site-packages (from pydantic<3.0.0,>=2.7.4->langchain) (2.27.1)\n",
      "Requirement already satisfied: python-dotenv>=0.21.0 in d:\\anaconda3\\lib\\site-packages (from pydantic-settings<3.0.0,>=2.4.0->langchain_community) (0.21.0)\n",
      "Requirement already satisfied: charset-normalizer<4,>=2 in d:\\anaconda3\\lib\\site-packages (from requests<3,>=2->langchain_community) (3.3.2)\n",
      "Requirement already satisfied: idna<4,>=2.5 in d:\\anaconda3\\lib\\site-packages (from requests<3,>=2->langchain_community) (3.7)\n",
      "Requirement already satisfied: urllib3<3,>=1.21.1 in d:\\anaconda3\\lib\\site-packages (from requests<3,>=2->langchain_community) (2.3.0)\n",
      "Requirement already satisfied: certifi>=2017.4.17 in d:\\anaconda3\\lib\\site-packages (from requests<3,>=2->langchain_community) (2025.1.31)\n",
      "Requirement already satisfied: greenlet!=0.4.17 in d:\\anaconda3\\lib\\site-packages (from SQLAlchemy<3,>=1.4->langchain_community) (3.1.1)\n",
      "Requirement already satisfied: anyio in d:\\anaconda3\\lib\\site-packages (from httpx<1,>=0.23.0->langsmith<0.4,>=0.1.125->langchain_community) (4.6.2)\n",
      "Requirement already satisfied: httpcore==1.* in d:\\anaconda3\\lib\\site-packages (from httpx<1,>=0.23.0->langsmith<0.4,>=0.1.125->langchain_community) (1.0.2)\n",
      "Requirement already satisfied: sniffio in d:\\anaconda3\\lib\\site-packages (from httpx<1,>=0.23.0->langsmith<0.4,>=0.1.125->langchain_community) (1.3.0)\n",
      "Requirement already satisfied: h11<0.15,>=0.13 in d:\\anaconda3\\lib\\site-packages (from httpcore==1.*->httpx<1,>=0.23.0->langsmith<0.4,>=0.1.125->langchain_community) (0.14.0)\n",
      "Requirement already satisfied: mypy-extensions>=0.3.0 in d:\\anaconda3\\lib\\site-packages (from typing-inspect<1,>=0.4.0->dataclasses-json<0.7,>=0.5.7->langchain_community) (1.0.0)\n",
      "Downloading pymupdf-1.26.0-cp39-abi3-win_amd64.whl (18.5 MB)\n",
      "   ---------------------------------------- 0.0/18.5 MB ? eta -:--:--\n",
      "   ---------------------------------------- 18.5/18.5 MB 117.1 MB/s eta 0:00:00\n",
      "Downloading langchain_community-0.3.24-py3-none-any.whl (2.5 MB)\n",
      "   ---------------------------------------- 0.0/2.5 MB ? eta -:--:--\n",
      "   ---------------------------------------- 2.5/2.5 MB 141.6 MB/s eta 0:00:00\n",
      "Downloading langchain_text_splitters-0.3.8-py3-none-any.whl (32 kB)\n",
      "Downloading langchain_experimental-0.3.4-py3-none-any.whl (209 kB)\n",
      "Downloading langchain-0.3.25-py3-none-any.whl (1.0 MB)\n",
      "   ---------------------------------------- 0.0/1.0 MB ? eta -:--:--\n",
      "   ---------------------------------------- 1.0/1.0 MB ? eta 0:00:00\n",
      "Downloading langchain_core-0.3.61-py3-none-any.whl (438 kB)\n",
      "Downloading dataclasses_json-0.6.7-py3-none-any.whl (28 kB)\n",
      "Downloading httpx_sse-0.4.0-py3-none-any.whl (7.8 kB)\n",
      "Downloading langsmith-0.3.42-py3-none-any.whl (360 kB)\n",
      "Downloading marshmallow-3.26.1-py3-none-any.whl (50 kB)\n",
      "Downloading orjson-3.10.18-cp312-cp312-win_amd64.whl (134 kB)\n",
      "Downloading typing_inspect-0.9.0-py3-none-any.whl (8.8 kB)\n",
      "Installing collected packages: typing-inspect, pymupdf, orjson, marshmallow, httpx-sse, dataclasses-json, langsmith, langchain_core, langchain_text_splitters, langchain, langchain_community, langchain_experimental\n",
      "Successfully installed dataclasses-json-0.6.7 httpx-sse-0.4.0 langchain-0.3.25 langchain_community-0.3.24 langchain_core-0.3.61 langchain_experimental-0.3.4 langchain_text_splitters-0.3.8 langsmith-0.3.42 marshmallow-3.26.1 orjson-3.10.18 pymupdf-1.26.0 typing-inspect-0.9.0\n",
      "Note: you may need to restart the kernel to use updated packages.\n",
      "Note: you may need to restart the kernel to use updated packages.\n"
     ]
    },
    {
     "name": "stderr",
     "output_type": "stream",
     "text": [
      "WARNING: pinecone 6.0.2 does not provide the extra 'async'\n"
     ]
    }
   ],
   "source": [
    "%pip install pandas matplotlib seaborn scikit-learn xgboost lightgbm catboost mlflow optuna shap"
   ]
  },
  {
   "cell_type": "markdown",
   "id": "c6ba335964741fb0",
   "metadata": {},
   "source": [
    "## **Tratamento do _corpus_**\n",
    "\n",
    "Agora que o _corpus_ já está em um formato que o Python entende, é necessário fazer os recortes dos textos, para separar as partes de informações que indicam o que é importante recuperar e o que não possui muita relação com a pergunta.\n",
    "\n",
    "Entre as formas de recorte, temos das mais usuais até as mais engenhosas:\n",
    "\n",
    "* Recortes com tamanho fixo _RecursiveCharacterTextSplitter_\n",
    "* Recortes a partir de caractér específico _CharacterTextSplitter_\n",
    "* Recortes utilizando catacterísticas semânticas _SemanticChunker_\n",
    "* Recortes enriquecidos com \"títulos\" do texto"
   ]
  },
  {
   "cell_type": "code",
   "execution_count": 1,
   "id": "dcd11f8a20d8eb13",
   "metadata": {
    "ExecuteTime": {
     "end_time": "2025-05-03T19:37:58.604013Z",
     "start_time": "2025-05-03T19:37:58.597371Z"
    }
   },
   "outputs": [],
   "source": [
    "import pandas as pd\n",
    "\n",
    "df = pd.read_csv('dataset_clinica20252.csv', sep='|')\n",
    "docs = list(df.ds_fatos[:100])"
   ]
  },
  {
   "cell_type": "code",
   "execution_count": 10,
   "id": "eb7650e9",
   "metadata": {},
   "outputs": [
    {
     "data": {
      "text/html": [
       "<div>\n",
       "<style scoped>\n",
       "    .dataframe tbody tr th:only-of-type {\n",
       "        vertical-align: middle;\n",
       "    }\n",
       "\n",
       "    .dataframe tbody tr th {\n",
       "        vertical-align: top;\n",
       "    }\n",
       "\n",
       "    .dataframe thead th {\n",
       "        text-align: right;\n",
       "    }\n",
       "</style>\n",
       "<table border=\"1\" class=\"dataframe\">\n",
       "  <thead>\n",
       "    <tr style=\"text-align: right;\">\n",
       "      <th></th>\n",
       "      <th>cd_causa</th>\n",
       "      <th>cd_atendimento</th>\n",
       "      <th>ds_Acao_Judicial</th>\n",
       "      <th>ds_fatos</th>\n",
       "      <th>ds_Pedidos</th>\n",
       "      <th>ds_Qualificacao</th>\n",
       "    </tr>\n",
       "  </thead>\n",
       "  <tbody>\n",
       "    <tr>\n",
       "      <th>0</th>\n",
       "      <td>CIB0500064</td>\n",
       "      <td>0825789-84.2025.8.18.0140</td>\n",
       "      <td>90 - ACAO DE REPARACAO DE DANOS</td>\n",
       "      <td>DOS FATOS A parte Autora, pessoa idosa e hipos...</td>\n",
       "      <td>DOS PEDIDOS Ante ao exposto, requer: a) Sejam ...</td>\n",
       "      <td>DOUTO JUÍZO DE DIREITO DA ___ VARA CÍVEL DA CO...</td>\n",
       "    </tr>\n",
       "    <tr>\n",
       "      <th>1</th>\n",
       "      <td>CIB0505587</td>\n",
       "      <td>1004697-72.2025.8.26.0066</td>\n",
       "      <td>90 - ACAO DE REPARACAO DE DANOS</td>\n",
       "      <td>DOS FATOS 5. A parte autora é pessoa idosa, hi...</td>\n",
       "      <td>DOS PEDIDOS E REQUERIMENTOS 33. Diante do expo...</td>\n",
       "      <td>(17) 99779-9177 / EXCELENTÍSSIMO SENHOR DOUTOR...</td>\n",
       "    </tr>\n",
       "    <tr>\n",
       "      <th>2</th>\n",
       "      <td>CIB0508201</td>\n",
       "      <td>0800423-07.2025.8.15.0761</td>\n",
       "      <td>90 - ACAO DE REPARACAO DE DANOS</td>\n",
       "      <td>DOS FATOS 1. SITUAÇÃO DE VULNERABILIDADE DO CO...</td>\n",
       "      <td>DOS PEDIDOS E REQUERIMENTOS Ex Positis, requer...</td>\n",
       "      <td>AO COLENDO JUÍZO DA VARA ÚNICA DA COMARCA DE G...</td>\n",
       "    </tr>\n",
       "    <tr>\n",
       "      <th>3</th>\n",
       "      <td>CIB0514647</td>\n",
       "      <td>1004875-69.2025.8.26.0438</td>\n",
       "      <td>90 - ACAO DE REPARACAO DE DANOS</td>\n",
       "      <td>DOS FATOS De plano, necessário esclarecer que ...</td>\n",
       "      <td>DOS PEDIDOS Diante do exposto, requer-se a Vos...</td>\n",
       "      <td>Avenida Eduardo de Castilho, n.o 315, Centro, ...</td>\n",
       "    </tr>\n",
       "    <tr>\n",
       "      <th>4</th>\n",
       "      <td>CIB0500604</td>\n",
       "      <td>0010630-50.2025.8.27.2706</td>\n",
       "      <td>90 - ACAO DE REPARACAO DE DANOS</td>\n",
       "      <td>DOS FATOS A parte Requerente é correntista usu...</td>\n",
       "      <td>DOS PEDIDOS 1. QUE SEJA DEFERIDA A GRATUIDADE ...</td>\n",
       "      <td>AO DOUTO JUÍZO DA VARA CÍVEL DA COMARCA DE ARA...</td>\n",
       "    </tr>\n",
       "  </tbody>\n",
       "</table>\n",
       "</div>"
      ],
      "text/plain": [
       "     cd_causa             cd_atendimento                 ds_Acao_Judicial  \\\n",
       "0  CIB0500064  0825789-84.2025.8.18.0140  90 - ACAO DE REPARACAO DE DANOS   \n",
       "1  CIB0505587  1004697-72.2025.8.26.0066  90 - ACAO DE REPARACAO DE DANOS   \n",
       "2  CIB0508201  0800423-07.2025.8.15.0761  90 - ACAO DE REPARACAO DE DANOS   \n",
       "3  CIB0514647  1004875-69.2025.8.26.0438  90 - ACAO DE REPARACAO DE DANOS   \n",
       "4  CIB0500604  0010630-50.2025.8.27.2706  90 - ACAO DE REPARACAO DE DANOS   \n",
       "\n",
       "                                            ds_fatos  \\\n",
       "0  DOS FATOS A parte Autora, pessoa idosa e hipos...   \n",
       "1  DOS FATOS 5. A parte autora é pessoa idosa, hi...   \n",
       "2  DOS FATOS 1. SITUAÇÃO DE VULNERABILIDADE DO CO...   \n",
       "3  DOS FATOS De plano, necessário esclarecer que ...   \n",
       "4  DOS FATOS A parte Requerente é correntista usu...   \n",
       "\n",
       "                                          ds_Pedidos  \\\n",
       "0  DOS PEDIDOS Ante ao exposto, requer: a) Sejam ...   \n",
       "1  DOS PEDIDOS E REQUERIMENTOS 33. Diante do expo...   \n",
       "2  DOS PEDIDOS E REQUERIMENTOS Ex Positis, requer...   \n",
       "3  DOS PEDIDOS Diante do exposto, requer-se a Vos...   \n",
       "4  DOS PEDIDOS 1. QUE SEJA DEFERIDA A GRATUIDADE ...   \n",
       "\n",
       "                                     ds_Qualificacao  \n",
       "0  DOUTO JUÍZO DE DIREITO DA ___ VARA CÍVEL DA CO...  \n",
       "1  (17) 99779-9177 / EXCELENTÍSSIMO SENHOR DOUTOR...  \n",
       "2  AO COLENDO JUÍZO DA VARA ÚNICA DA COMARCA DE G...  \n",
       "3  Avenida Eduardo de Castilho, n.o 315, Centro, ...  \n",
       "4  AO DOUTO JUÍZO DA VARA CÍVEL DA COMARCA DE ARA...  "
      ]
     },
     "execution_count": 10,
     "metadata": {},
     "output_type": "execute_result"
    }
   ],
   "source": [
    "df.head()"
   ]
  },
  {
   "cell_type": "code",
   "execution_count": 13,
   "id": "8ead792632736f6b",
   "metadata": {
    "ExecuteTime": {
     "end_time": "2025-05-03T19:42:05.436860Z",
     "start_time": "2025-05-03T19:42:05.427671Z"
    }
   },
   "outputs": [
    {
     "name": "stdout",
     "output_type": "stream",
     "text": [
      "DOS FATOS A parte Autora, pessoa idosa e hipossuficiente, é aposentada pelo INSS e percebe o valor mensal bruto de um salário mínimo. A Requerente recebe a referida quantia em seu cartão de conta corrente do referido Banco Requerido. Ocorre que desde janeiro de 2020, vem sendo descontado valores referente à GASTOS DE CARTÃO DE CRÉDITO imputado em sua conta corrente (EXTRATOS EM ANEXO). Acontece que a parte Autora não contratou e não utiliza cartão de crédito nenhum do banco Requerido, desconhecendo a origem dos descontos feitos por parte do Requerido. Ressalta-se, Vossa Excelência, que o único intuito da referida conta da parte Requerente é o recebimento e saque do seu benefício, conforme extratos da conta com as movimentações em anexo, e ao invés de ser fornecido uma conta benefício para o mesmo, foi aberta uma conta corrente em seu nome, utilizando-se de sua falta de conhecimentos técnicos. É importante ressaltar que a parte Requerente é pessoa idosa, de conhecimentos técnicos\n"
     ]
    }
   ],
   "source": [
    "from langchain_text_splitters import RecursiveCharacterTextSplitter\n",
    "\n",
    "text_splitter = RecursiveCharacterTextSplitter(\n",
    "    # Set a really small chunk size, just to show.\n",
    "    chunk_size=1000,\n",
    "    chunk_overlap=200,\n",
    "    length_function=len,\n",
    "    is_separator_regex=False,\n",
    ")\n",
    "\n",
    "# texts = text_splitter.split_documents(docs[0])\n",
    "texts = text_splitter.split_text(docs[0])\n",
    "print(texts[0])"
   ]
  },
  {
   "cell_type": "markdown",
   "id": "ae26b311701c967b",
   "metadata": {},
   "source": [
    "Esse método é a forma mais simples de recorte de texto, ele busca tamanhos fixos de recorte e faz uma sobre prosição de texto entre os recortes. Esse método é muito útil quando a linguagem que está sendo utilizada possui algum padrão simples de pausa, final de sentença ou final de parágrafo."
   ]
  },
  {
   "cell_type": "markdown",
   "id": "580887f9b29087cb",
   "metadata": {},
   "source": [
    "Essa forma de recorte utiliza tamanhos máximos (_chunk size_), com separadores delimitados (no caso utilizamos uma quebra de linha) e _overlap_ de textos entre um recorte e outro (_chunk overlap_).\n",
    "Essa forma pode ser bem útil quando possui separadores bem definidos (ex: expressões, nomes, capítulos e etc)."
   ]
  },
  {
   "cell_type": "code",
   "execution_count": 14,
   "id": "5d072e872d2b1cef",
   "metadata": {
    "ExecuteTime": {
     "end_time": "2025-05-03T19:42:55.900890Z",
     "start_time": "2025-05-03T19:42:55.892613Z"
    }
   },
   "outputs": [
    {
     "data": {
      "text/plain": [
       "'DOS FATOS A parte Autora, pessoa idosa e hipossuficiente, é aposentada pelo INSS e percebe o valor mensal bruto de um salário mínimo. A Requerente recebe a referida quantia em seu cartão de conta corrente do referido Banco Requerido. Ocorre que desde janeiro de 2020, vem sendo descontado valores referente à GASTOS DE CARTÃO DE CRÉDITO imputado em sua conta corrente (EXTRATOS EM ANEXO). Acontece que a parte Autora não contratou e não utiliza cartão de crédito nenhum do banco Requerido, desconhecendo a origem dos descontos feitos por parte do Requerido. Ressalta-se, Vossa Excelência, que o único intuito da referida conta da parte Requerente é o recebimento e saque do seu benefício, conforme extratos da conta com as movimentações em anexo, e ao invés de ser fornecido uma conta benefício para o mesmo, foi aberta uma conta corrente em seu nome, utilizando-se de sua falta de conhecimentos técnicos. É importante ressaltar que a parte Requerente é pessoa idosa, de conhecimentos técnicos limitados, e não faz uso de cartão de crédito. É nítido que o Requerido se utilizou das peculiaridades da Requerente para imputar a mesma um cartão de crédito não contratado e do qual não faz o uso, descontando mensalmente valores consideráveis de sua conta corrente, acreditando que o Requerente não iria saber a origem do desconto, o que é um total descaso para o consumidor. Importante frisar também, que tais descontos são indevidos, visto que o Requerente não é devedor do valor cobrado pois não contratou o referido cartão de crédito, sendo tal contrato Num. 75670391 - Pág. 2 Assinado eletronicamente por: LINDEMBERG FERREIRA SOARES CHAVES - 14/05/2025 16:37:18 Número do documento: 25051416371803600000070628782 INEXISTENTE, como restará provado com base nas provas anexas, assim como no mérito da questão. TABELA COM VALORES DESCONTADOS A TÍTULO DE GASTOS DE CARTÃO DE CRÉDITO VALOR TOTAL SIMPLES = R$ 5.953,32 (cinco mil, novecentos e cinquenta e três reais e trinta e dois centavos) REPETIÇÃO DO INDÉBITO = R$11.906,64 (onze mil, novecentos e seis reais e sessenta e quatro centavos). 3.'"
      ]
     },
     "execution_count": 14,
     "metadata": {},
     "output_type": "execute_result"
    }
   ],
   "source": [
    "from langchain_text_splitters import CharacterTextSplitter\n",
    "text_splitter = CharacterTextSplitter(\n",
    "    separator=r\"(fls. \\d{1,3}/\\d{1,3})\",\n",
    "    chunk_size=1000,\n",
    "    chunk_overlap=200,\n",
    "    length_function=len,\n",
    "    is_separator_regex=True,\n",
    ")\n",
    "# texts = text_splitter.split_documents(docs[0])\n",
    "texts = text_splitter.split_text(docs[0])\n",
    "texts[0]"
   ]
  },
  {
   "cell_type": "markdown",
   "id": "95a7d5e5ad413dfb",
   "metadata": {},
   "source": [
    "Nos exemplos acima, primeiro fizemos o recorte de no máximo 1000 caractéres até quando houver uma quebra de linha. Já no segundo exemplo, fizemos o recorte pelo indicador de página do arquivo, ou seja, cada pedaço do texto é uma página do pdf."
   ]
  },
  {
   "cell_type": "code",
   "execution_count": 16,
   "id": "8e72198a96cc3da1",
   "metadata": {
    "ExecuteTime": {
     "end_time": "2025-05-03T19:45:57.948554Z",
     "start_time": "2025-05-03T19:45:40.026835Z"
    }
   },
   "outputs": [
    {
     "name": "stderr",
     "output_type": "stream",
     "text": [
      "Invalid model-index. Not loading eval results into CardData.\n",
      "Invalid model-index. Not loading eval results into CardData.\n"
     ]
    },
    {
     "data": {
      "text/plain": [
       "'DOS FATOS A parte Autora, pessoa idosa e hipossuficiente, é aposentada pelo INSS e percebe o valor mensal bruto de um salário mínimo.'"
      ]
     },
     "execution_count": 16,
     "metadata": {},
     "output_type": "execute_result"
    }
   ],
   "source": [
    "from langchain_experimental.text_splitter import SemanticChunker\n",
    "# from langchain_openai import OpenAIEmbeddings\n",
    "from langchain_huggingface import HuggingFaceEmbeddings\n",
    "\n",
    "# embeddings = OpenAIEmbeddings(model=\"text-embedding-3-large\")\n",
    "embeddings = HuggingFaceEmbeddings(model_name=\"rufimelo/bert-large-portuguese-cased-sts\")\n",
    "\n",
    "# text_splitter = SemanticChunker(embeddings, breakpoint_threshold_type=\"percentile\", breakpoint_threshold=0.5)\n",
    "text_splitter = SemanticChunker(embeddings, breakpoint_threshold_type=\"gradient\", breakpoint_threshold_amount  = 0.5)\n",
    "# text_splitter = SemanticChunker(embeddings, breakpoint_threshold_type=\"standard_deviation\", breakpoint_threshold=0.5)\n",
    "\n",
    "# texts = text_splitter.split_documents(docs[0])\n",
    "texts = text_splitter.split_text(docs[0])\n",
    "texts[0]"
   ]
  },
  {
   "cell_type": "markdown",
   "id": "3e5bd6b9cd083075",
   "metadata": {},
   "source": [
    "O método semântico leva em consideração a ordem das palavras, utilizando estatísticas para cada nova palavra no recorte. No caso, temos 3 métodos diferentes, o percentil (aonde a próxima palavra tem que tem um percentual de probabilidade acima de x% para poder ser considerado), o gradiente, que considera não somente a ultima palavra do recorte, mas todas as palavras do recorte e por fim o desvio padrão, que considera o quanto a palavra seguinte é diferente das demais do recorte.\n"
   ]
  },
  {
   "cell_type": "markdown",
   "id": "e5eec773",
   "metadata": {},
   "source": [
    "## **Vetorização (Frequência de palavras)**\n",
    "\n",
    "Dado os recortes de texto, é necessário transformar esses textos em sequência de números que permitem ser comparados. Uma forma mais simplista é observar a frequência de cada palavra nos textos e a mesma frequencia no corpus."
   ]
  },
  {
   "cell_type": "code",
   "execution_count": 8,
   "id": "cb0c04d6",
   "metadata": {},
   "outputs": [
    {
     "name": "stderr",
     "output_type": "stream",
     "text": [
      "[nltk_data] Downloading package punkt to\n",
      "[nltk_data]     C:\\Users\\henri\\AppData\\Roaming\\nltk_data...\n",
      "[nltk_data]   Package punkt is already up-to-date!\n",
      "[nltk_data] Downloading package punkt_tab to\n",
      "[nltk_data]     C:\\Users\\henri\\AppData\\Roaming\\nltk_data...\n",
      "[nltk_data]   Unzipping tokenizers\\punkt_tab.zip.\n"
     ]
    },
    {
     "name": "stdout",
     "output_type": "stream",
     "text": [
      "['Olá', '!', 'Este', 'é', 'um', 'exemplo', 'de', 'segmentação', 'de', 'sentenças', '.', 'O', 'NLTK', 'pode', 'dividir', 'textos', 'em', 'português', 'facilmente', '.']\n"
     ]
    }
   ],
   "source": [
    "import nltk\n",
    "# nltk.download('punkt_tab')  # Execute esta linha pelo menos uma vez para baixar o modelo\n",
    "from nltk.tokenize import word_tokenize"
   ]
  },
  {
   "cell_type": "code",
   "execution_count": 12,
   "id": "a85d84ed",
   "metadata": {},
   "outputs": [
    {
     "name": "stdout",
     "output_type": "stream",
     "text": [
      "Rank 1: Ressalta-se, Vossa Excelência, que o único intuito da referida conta da parte Requerente é o recebimento e saque do seu benefício, conforme extratos da conta com as movimentações em anexo, e ao invés de ser fornecido uma conta benefício para o mesmo, foi aberta uma conta corrente em seu nome, utilizando-se de sua falta de conhecimentos técnicos.\n",
      "Rank 2: É nítido que o Requerido se utilizou das peculiaridades da Requerente para imputar a mesma um cartão de crédito não contratado e do qual não faz o uso, descontando mensalmente valores consideráveis de sua conta corrente, acreditando que o Requerente não iria saber a origem do desconto, o que é um total descaso para o consumidor.\n",
      "Rank 3: 2 Assinado eletronicamente por: LINDEMBERG FERREIRA SOARES CHAVES - 14/05/2025 16:37:18 Número do documento: 25051416371803600000070628782 INEXISTENTE, como restará provado com base nas provas anexas, assim como no mérito da questão.\n",
      "Rank 4: TABELA COM VALORES DESCONTADOS A TÍTULO DE GASTOS DE CARTÃO DE CRÉDITO VALOR TOTAL SIMPLES = R$ 5.953,32 (cinco mil, novecentos e cinquenta e três reais e trinta e dois centavos) REPETIÇÃO DO INDÉBITO = R$11.906,64 (onze mil, novecentos e seis reais e sessenta e quatro centavos).\n",
      "Rank 5: Importante frisar também, que tais descontos são indevidos, visto que o Requerente não é devedor do valor cobrado pois não contratou o referido cartão de crédito, sendo tal contrato Num.\n"
     ]
    }
   ],
   "source": [
    "from sklearn.feature_extraction.text import TfidfVectorizer\n",
    "import numpy as np\n",
    "import nltk\n",
    "\n",
    "# Download NLTK sentence tokenizer if not already present\n",
    "# nltk.download('punkt')\n",
    "\n",
    "# Example: split the first document in 'docs' into sentences\n",
    "sentences = nltk.sent_tokenize(docs[0])\n",
    "sentences\n",
    "\n",
    "# Compute TF-IDF for each sentence\n",
    "vectorizer = TfidfVectorizer()\n",
    "tfidf_matrix = vectorizer.fit_transform(sentences)\n",
    "\n",
    "# Compute the mean TF-IDF score for each sentence\n",
    "mean_scores = np.asarray(tfidf_matrix.mean(axis=1)).flatten()\n",
    "\n",
    "# Rank sentences by their mean TF-IDF score\n",
    "ranked_sentences = [sentences[i] for i in mean_scores.argsort()[::-1]]\n",
    "\n",
    "# Print the top 5 most \"important\" sentences\n",
    "for i, sent in enumerate(ranked_sentences[:5]):\n",
    "    print(f\"Rank {i+1}: {sent}\")"
   ]
  },
  {
   "cell_type": "code",
   "execution_count": 17,
   "id": "c5e6e073",
   "metadata": {},
   "outputs": [
    {
     "data": {
      "text/html": [
       "<div>\n",
       "<style scoped>\n",
       "    .dataframe tbody tr th:only-of-type {\n",
       "        vertical-align: middle;\n",
       "    }\n",
       "\n",
       "    .dataframe tbody tr th {\n",
       "        vertical-align: top;\n",
       "    }\n",
       "\n",
       "    .dataframe thead th {\n",
       "        text-align: right;\n",
       "    }\n",
       "</style>\n",
       "<table border=\"1\" class=\"dataframe\">\n",
       "  <thead>\n",
       "    <tr style=\"text-align: right;\">\n",
       "      <th></th>\n",
       "      <th>0</th>\n",
       "      <th>00</th>\n",
       "      <th>000</th>\n",
       "      <th>0000</th>\n",
       "      <th>0000001</th>\n",
       "      <th>0000002</th>\n",
       "      <th>0000003</th>\n",
       "      <th>0001</th>\n",
       "      <th>0001593</th>\n",
       "      <th>0002610</th>\n",
       "      <th>...</th>\n",
       "      <th>óssea</th>\n",
       "      <th>ônibus</th>\n",
       "      <th>ônus</th>\n",
       "      <th>última</th>\n",
       "      <th>último</th>\n",
       "      <th>últimos</th>\n",
       "      <th>única</th>\n",
       "      <th>único</th>\n",
       "      <th>úteis</th>\n",
       "      <th>útil</th>\n",
       "    </tr>\n",
       "  </thead>\n",
       "  <tbody>\n",
       "    <tr>\n",
       "      <th>0</th>\n",
       "      <td>0.0</td>\n",
       "      <td>0.0</td>\n",
       "      <td>0.0</td>\n",
       "      <td>0.0</td>\n",
       "      <td>0.0</td>\n",
       "      <td>0.0</td>\n",
       "      <td>0.0</td>\n",
       "      <td>0.0</td>\n",
       "      <td>0.0</td>\n",
       "      <td>0.0</td>\n",
       "      <td>...</td>\n",
       "      <td>0.0</td>\n",
       "      <td>0.0</td>\n",
       "      <td>0.0</td>\n",
       "      <td>0.0</td>\n",
       "      <td>0.0</td>\n",
       "      <td>0.0</td>\n",
       "      <td>0.000000</td>\n",
       "      <td>0.048107</td>\n",
       "      <td>0.0</td>\n",
       "      <td>0.0</td>\n",
       "    </tr>\n",
       "    <tr>\n",
       "      <th>1</th>\n",
       "      <td>0.0</td>\n",
       "      <td>0.0</td>\n",
       "      <td>0.0</td>\n",
       "      <td>0.0</td>\n",
       "      <td>0.0</td>\n",
       "      <td>0.0</td>\n",
       "      <td>0.0</td>\n",
       "      <td>0.0</td>\n",
       "      <td>0.0</td>\n",
       "      <td>0.0</td>\n",
       "      <td>...</td>\n",
       "      <td>0.0</td>\n",
       "      <td>0.0</td>\n",
       "      <td>0.0</td>\n",
       "      <td>0.0</td>\n",
       "      <td>0.0</td>\n",
       "      <td>0.0</td>\n",
       "      <td>0.000000</td>\n",
       "      <td>0.000000</td>\n",
       "      <td>0.0</td>\n",
       "      <td>0.0</td>\n",
       "    </tr>\n",
       "    <tr>\n",
       "      <th>2</th>\n",
       "      <td>0.0</td>\n",
       "      <td>0.0</td>\n",
       "      <td>0.0</td>\n",
       "      <td>0.0</td>\n",
       "      <td>0.0</td>\n",
       "      <td>0.0</td>\n",
       "      <td>0.0</td>\n",
       "      <td>0.0</td>\n",
       "      <td>0.0</td>\n",
       "      <td>0.0</td>\n",
       "      <td>...</td>\n",
       "      <td>0.0</td>\n",
       "      <td>0.0</td>\n",
       "      <td>0.0</td>\n",
       "      <td>0.0</td>\n",
       "      <td>0.0</td>\n",
       "      <td>0.0</td>\n",
       "      <td>0.023888</td>\n",
       "      <td>0.000000</td>\n",
       "      <td>0.0</td>\n",
       "      <td>0.0</td>\n",
       "    </tr>\n",
       "    <tr>\n",
       "      <th>3</th>\n",
       "      <td>0.0</td>\n",
       "      <td>0.0</td>\n",
       "      <td>0.0</td>\n",
       "      <td>0.0</td>\n",
       "      <td>0.0</td>\n",
       "      <td>0.0</td>\n",
       "      <td>0.0</td>\n",
       "      <td>0.0</td>\n",
       "      <td>0.0</td>\n",
       "      <td>0.0</td>\n",
       "      <td>...</td>\n",
       "      <td>0.0</td>\n",
       "      <td>0.0</td>\n",
       "      <td>0.0</td>\n",
       "      <td>0.0</td>\n",
       "      <td>0.0</td>\n",
       "      <td>0.0</td>\n",
       "      <td>0.031951</td>\n",
       "      <td>0.038489</td>\n",
       "      <td>0.0</td>\n",
       "      <td>0.0</td>\n",
       "    </tr>\n",
       "    <tr>\n",
       "      <th>4</th>\n",
       "      <td>0.0</td>\n",
       "      <td>0.0</td>\n",
       "      <td>0.0</td>\n",
       "      <td>0.0</td>\n",
       "      <td>0.0</td>\n",
       "      <td>0.0</td>\n",
       "      <td>0.0</td>\n",
       "      <td>0.0</td>\n",
       "      <td>0.0</td>\n",
       "      <td>0.0</td>\n",
       "      <td>...</td>\n",
       "      <td>0.0</td>\n",
       "      <td>0.0</td>\n",
       "      <td>0.0</td>\n",
       "      <td>0.0</td>\n",
       "      <td>0.0</td>\n",
       "      <td>0.0</td>\n",
       "      <td>0.000000</td>\n",
       "      <td>0.118268</td>\n",
       "      <td>0.0</td>\n",
       "      <td>0.0</td>\n",
       "    </tr>\n",
       "  </tbody>\n",
       "</table>\n",
       "<p>5 rows × 4229 columns</p>\n",
       "</div>"
      ],
      "text/plain": [
       "     0   00  000  0000  0000001  0000002  0000003  0001  0001593  0002610  \\\n",
       "0  0.0  0.0  0.0   0.0      0.0      0.0      0.0   0.0      0.0      0.0   \n",
       "1  0.0  0.0  0.0   0.0      0.0      0.0      0.0   0.0      0.0      0.0   \n",
       "2  0.0  0.0  0.0   0.0      0.0      0.0      0.0   0.0      0.0      0.0   \n",
       "3  0.0  0.0  0.0   0.0      0.0      0.0      0.0   0.0      0.0      0.0   \n",
       "4  0.0  0.0  0.0   0.0      0.0      0.0      0.0   0.0      0.0      0.0   \n",
       "\n",
       "   ...  óssea  ônibus  ônus  última  último  últimos     única     único  \\\n",
       "0  ...    0.0     0.0   0.0     0.0     0.0      0.0  0.000000  0.048107   \n",
       "1  ...    0.0     0.0   0.0     0.0     0.0      0.0  0.000000  0.000000   \n",
       "2  ...    0.0     0.0   0.0     0.0     0.0      0.0  0.023888  0.000000   \n",
       "3  ...    0.0     0.0   0.0     0.0     0.0      0.0  0.031951  0.038489   \n",
       "4  ...    0.0     0.0   0.0     0.0     0.0      0.0  0.000000  0.118268   \n",
       "\n",
       "   úteis  útil  \n",
       "0    0.0   0.0  \n",
       "1    0.0   0.0  \n",
       "2    0.0   0.0  \n",
       "3    0.0   0.0  \n",
       "4    0.0   0.0  \n",
       "\n",
       "[5 rows x 4229 columns]"
      ]
     },
     "execution_count": 17,
     "metadata": {},
     "output_type": "execute_result"
    }
   ],
   "source": [
    "# word level tf-idf\n",
    "tfidf_vect = TfidfVectorizer(analyzer='word', token_pattern=r'\\w{1,}', max_features=5000)\n",
    "tfidf_vect.fit(docs)\n",
    "xtrain_tfidf =  tfidf_vect.transform(docs)\n",
    "xvalid_tfidf =  tfidf_vect.transform(docs)\n",
    "pd.DataFrame(xtrain_tfidf.toarray(), columns=tfidf_vect.get_feature_names_out()).head()"
   ]
  },
  {
   "cell_type": "markdown",
   "id": "775817d6d117352d",
   "metadata": {},
   "source": [
    "## **Vetorização (_embedding_)**\n",
    "\n",
    "Dado os recortes de texto, é necessário transformar esses textos em sequência de números que permitem ser comparados. Como é necessário considerar a semântica do texto e não somente a freqüência das palavras, precisamos recorrer aos \"_embeddings_\", que atribui uma sequencia numérica para cada palavra e para cada recorte de texto."
   ]
  },
  {
   "cell_type": "code",
   "execution_count": 27,
   "id": "6c6a2f15f6517c62",
   "metadata": {
    "ExecuteTime": {
     "end_time": "2025-04-28T16:50:05.886719Z",
     "start_time": "2025-04-28T13:14:18.115386Z"
    }
   },
   "outputs": [
    {
     "name": "stderr",
     "output_type": "stream",
     "text": [
      "Invalid model-index. Not loading eval results into CardData.\n",
      "Invalid model-index. Not loading eval results into CardData.\n",
      "Invalid model-index. Not loading eval results into CardData.\n"
     ]
    },
    {
     "name": "stdout",
     "output_type": "stream",
     "text": [
      "[-0.3481003940105438, -0.8226073980331421, 0.35034438967704773, -0.5188852548599243, 0.325966477394104, 0.19125080108642578, 0.27869847416877747, -0.4937231242656708, -0.1799914836883545, 0.04328729212284088, -0.5072916746139526, -0.9959406852722168, -0.3321230709552765, -0.2087881863117218, 0.05133147910237312, 0.34597092866897583, -0.07529120147228241, -0.06056426465511322, -0.1960592418909073, 0.5959059000015259, 0.10252609848976135, -0.044182565063238144, 0.0947074443101883, 0.4872032403945923, 0.32662153244018555, 0.18863028287887573, 0.06232176348567009, 0.17982105910778046, -0.37635791301727295, 0.1351553201675415, -0.4243520498275757, 0.5047022104263306, -0.9168486595153809, -0.758033037185669, -0.1989833116531372, -0.04532583802938461, -0.3325003683567047, 0.026887869462370872, -0.1635347157716751, -0.1112278401851654, -0.4888775646686554, 0.0027717379853129387, -0.2346966415643692, 0.13130493462085724, 0.8376962542533875, 0.20897258818149567, -0.04720345884561539, -0.2085210531949997, -0.20999568700790405, 0.1777314394712448, 0.32802140712738037, 0.4662376642227173, 0.35430675745010376, 0.20486819744110107, 0.4629894495010376, 0.24439790844917297, -0.3125208616256714, -0.07036565244197845, 0.28114748001098633, 0.17183509469032288, 0.29077526926994324, 0.45220011472702026, -0.687749981880188, 0.325950562953949, 0.05194435268640518, -0.5728340148925781, 0.21832963824272156, 0.2817021608352661, -0.3212701976299286, 0.4982711672782898, -0.37506216764450073, 0.05460362881422043, 0.13318395614624023, -0.2130020260810852, 0.10145477950572968, -1.0275212526321411, -0.22406470775604248, 0.0732438862323761, 0.3731333017349243, -0.2719871401786804, 0.0858943834900856, 0.2305973321199417, -0.16006410121917725, -0.05078556016087532, 0.18495190143585205, 0.218521386384964, -0.7582088112831116, -0.19095656275749207, 0.1328805387020111, 0.11101050674915314, -0.662266731262207, 0.40666601061820984, -0.8327784538269043, 0.08549767732620239, 0.6167955994606018, 0.2439597249031067, -0.18664634227752686, 0.3482958674430847, 0.21156778931617737, 0.11679629981517792, 0.6081646680831909, 0.06741379201412201, -0.4009912610054016, 0.24631251394748688, 0.1135154590010643, 0.24358238279819489, 0.7786630988121033, 0.03710419684648514, -0.40219560265541077, -0.19341358542442322, 0.4514181613922119, -0.15385444462299347, -0.7090402841567993, -0.27651679515838623, 0.5927293300628662, -0.0007141637615859509, -0.18623709678649902, 0.39338284730911255, 0.7521359920501709, -0.2056054174900055, -0.180789053440094, -0.004763348959386349, -0.6258946061134338, 0.1293487697839737, 0.42002880573272705, -0.3761930763721466, 0.3431793451309204, 0.2548423409461975, 0.4834178686141968, 0.15165908634662628, -0.05087784677743912, 0.08371466398239136, 0.38614997267723083, 0.30911725759506226, 0.14953312277793884, -0.346030592918396, 0.3195398449897766, -0.28793489933013916, 1.8174972534179688, -0.21245688199996948, -0.02033318765461445, -0.1914196014404297, -0.2199840396642685, 0.3965443968772888, 0.12313532084226608, -0.2853178381919861, -0.12216562032699585, 0.1978067308664322, -0.8572039008140564, -0.1985315978527069, 0.2599716782569885, 0.37725919485092163, -0.31950750946998596, 0.39739665389060974, 0.5022850036621094, -0.5223838090896606, 0.3419100344181061, -0.28355872631073, 0.1238376572728157, 0.31229233741760254, 0.5430697202682495, -0.49705925583839417, -0.206886887550354, 0.7242387533187866, -0.380075603723526, 0.7736247181892395, 0.09798102080821991, -0.2800540328025818, 0.17314797639846802, -0.003340567462146282, -0.04766232520341873, 0.03623351454734802, -0.028700683265924454, -0.6543897986412048, -0.5143414735794067, -0.4562009274959564, -0.12136752903461456, -0.2744293212890625, -0.6383085250854492, 0.07032491266727448, -0.022232158109545708, -0.25808781385421753, -0.36386311054229736, 0.7339037656784058, 0.5173099040985107, -0.3307902216911316, 0.12102225422859192, -0.49760109186172485, 0.37519586086273193, -0.2877688407897949, 0.16623075306415558, 0.6387128829956055, 0.04340434446930885, 1.0439393520355225, 0.41861075162887573, 0.06754366308450699, 0.3298165798187256, -0.1763336956501007, -0.23120273649692535, -0.18772928416728973, 0.6552362442016602, 0.06290380656719208, -0.19241327047348022, -0.17232729494571686, -0.5590817928314209, -0.42695197463035583, 0.3834284543991089, 0.661547064781189, 0.19151566922664642, 0.2601431608200073, 0.18369793891906738, 0.2810400724411011, -0.4197433590888977, -0.22136454284191132, 0.26437193155288696, 0.27169954776763916, -0.4034923315048218, 0.17733550071716309, -0.4933394491672516, -0.3096119165420532, 0.07452282309532166, 0.040449317544698715, -0.37703925371170044, -0.11556148529052734, 0.24581491947174072, -0.5541550517082214, 0.3820768892765045, -1.1090846061706543, -0.2730991542339325, -0.813170313835144, -0.04840436577796936, 0.7168807983398438, -0.5463707447052002, 0.15897780656814575, -0.17581136524677277, 0.061771996319293976, -0.3116472363471985, -0.00024964194744825363, -0.3867685794830322, 0.5999252200126648, 0.21765117347240448, 0.07216807454824448, 0.38964956998825073, -0.028608275577425957, -0.39819860458374023, -0.022093189880251884, -0.26956140995025635, 0.2442694753408432, -0.3150402009487152, 0.42355892062187195, -0.021973708644509315, -0.33073920011520386, 0.31454986333847046, 0.33812376856803894, -0.40361520648002625, -0.032685644924640656, 0.866894543170929, -0.34979701042175293, -0.5955895185470581, -0.01712970994412899, -0.32941216230392456, -0.05553257465362549, -0.01614125445485115, -0.13089695572853088, 0.07593528926372528, -0.155737042427063, 0.23251298069953918, -0.017045237123966217, 0.2862280607223511, 0.2906971871852875, -0.3412655293941498, -0.02990693971514702, 0.17594707012176514, 0.588767409324646, -0.14205114543437958, -0.14135585725307465, 0.12346278876066208, 0.19620344042778015, -0.07116419076919556, -0.36675509810447693, 0.14716821908950806, -0.186429962515831, 0.2860358953475952, -0.2296207845211029, -0.01795826479792595, -0.48801741003990173, -0.29066842794418335, 0.06314250826835632, 0.10831087827682495, -0.19583112001419067, -0.3785361051559448, -0.3065544366836548, -0.5447852611541748, -0.17725476622581482, -0.33483394980430603, 0.04237598925828934, 0.6443425416946411, 0.2246437519788742, -0.5307360887527466, -0.27975156903266907, -0.19746868312358856, 0.2870588004589081, 0.5031839609146118, -0.27885815501213074, -0.5274050831794739, 0.26022547483444214, -0.2329293042421341, -0.10859885066747665, 0.3608826994895935, 0.3227715790271759, 0.13353374600410461, 0.15280881524085999, 0.49072110652923584, -0.46250566840171814, 0.5611892938613892, -0.3766343593597412, 0.3763142228126526, 0.7125685214996338, -0.22899097204208374, 0.7855644822120667, -0.21529613435268402, -0.1222391352057457, -0.13373412191867828, -0.15638191998004913, -0.5920916795730591, -0.11606007814407349, -0.9529067277908325, -0.25246238708496094, 0.28947824239730835, -0.09869006276130676, -0.08709710091352463, -0.11896632611751556, -0.19480302929878235, -0.27825140953063965, -0.12550148367881775, -0.22972559928894043, 0.34183093905448914, 0.2747727632522583, -0.5245220065116882, 0.34689396619796753, 0.24208351969718933, 0.140818789601326, -0.057993315160274506, -0.08551434427499771, 0.090663380920887, 0.7588664293289185, 0.8168696165084839, -0.07627213001251221, -0.6567705869674683, -0.3110852837562561, -0.40439218282699585, -0.1542413979768753, -0.1626323014497757, -0.6697304248809814, 0.4877224266529083, 0.3421599268913269, -0.369423508644104, 0.1846698820590973, 0.4572366774082184, -0.13261383771896362, 0.1318826675415039, 0.6829460263252258, 0.10071403533220291, -0.38179439306259155, -0.31892168521881104, -0.5664345026016235, -0.35190892219543457, 0.3740870952606201, 0.27101680636405945, 0.3113199472427368, -0.22013017535209656, -0.502853512763977, 0.07945698499679565, 0.4110907316207886, 0.5575271844863892, -0.1749810427427292, -0.10736832767724991, 0.08512887358665466, -0.09273603558540344, -0.5762495994567871, -0.4449908137321472, 0.44469118118286133, 0.7714694738388062, 0.5984596610069275, -0.1592409312725067, -0.11619845032691956, 0.13199153542518616, 0.6921663284301758, -0.155222088098526, 0.3611926734447479, -0.2367221862077713, 0.3300511837005615, -0.12745732069015503, -0.622523307800293, -0.8491672277450562, 0.33410316705703735, 0.7081456184387207, -0.14424273371696472, -0.4305538535118103, 0.1618788242340088, -0.49582338333129883, -0.18789926171302795, -0.19531770050525665, 0.4062681198120117, -0.0824466422200203, -0.13644106686115265, 0.11449213325977325, 0.6693388223648071, -0.0773172527551651, -0.7690145969390869, -0.41786879301071167, 0.47582387924194336, 0.022358953952789307, -0.09850406646728516, 0.5356252193450928, 0.11173287034034729, -1.0030313730239868, 0.0834948718547821, -0.015136860311031342, -0.09787629544734955, 0.5337653756141663, 0.07670034468173981, 0.4337009787559509, -0.3401790261268616, -0.15768682956695557, 0.9656802415847778, -0.04732586815953255, -1.1248040199279785, -0.2590487599372864, 0.27996063232421875, 1.0280449390411377, 0.5196772813796997, -0.10910288989543915, 0.22945179045200348, -0.007020263001322746, 0.19020330905914307, -0.5629651546478271, 0.18131503462791443, 0.42724257707595825, -0.5946462750434875, 0.2211242914199829, 0.1414235234260559, 0.20400962233543396, 0.21802416443824768, 0.16550272703170776, 0.5626041293144226, -0.40133029222488403, -0.6797482967376709, -0.18314072489738464, 0.5637859106063843, -0.07221333682537079, 0.32352733612060547, 0.5376385450363159, -0.09770399332046509, -0.6917373538017273, 0.1575338989496231, 2.8419458866119385, 0.4902401566505432, -0.3827900290489197, 0.1653512418270111, 0.340495765209198, -0.555877685546875, 0.6215446591377258, 0.30354976654052734, 0.04624277353286743, -0.4406130909919739, 0.32330065965652466, 0.03907319903373718, -0.483204185962677, -0.3254203200340271, 0.21398505568504333, 0.2638612389564514, -0.08726443350315094, -0.07081344723701477, 0.43471211194992065, -0.18675605952739716, -0.05856378376483917, 0.9755897521972656, -0.7720807790756226, -0.6270025968551636, -0.008153282105922699, -0.27535754442214966, -0.08061984926462173, 0.4244388937950134, 0.7285124063491821, -0.30037742853164673, 0.12124548852443695, -0.6133075952529907, 0.460787296295166, -0.2559799551963806, 0.15490469336509705, -0.7399322986602783, 0.22118829190731049, 0.5724068284034729, 0.23446688055992126, -0.3052847385406494, -0.21861493587493896, -1.3514769077301025, 0.6962687969207764, 0.2375258505344391, -0.014404341578483582, -0.07025912404060364, 0.043009452521800995, -0.43900537490844727, -0.19347015023231506, -0.3681255578994751, 0.034964270889759064, -0.5650547742843628, -0.219312846660614, -0.056871283799409866, 0.2710801362991333, -0.8475548624992371, 0.08145061135292053, 0.03654497489333153, 0.28890037536621094, -0.713283896446228, -0.07963921129703522, -0.07926561683416367, -0.5072799324989319, -0.5881072878837585, 0.0023949481546878815, -0.39948391914367676, -0.21210747957229614, -0.4362190365791321, -0.5730680823326111, 0.551844596862793, 0.3536153733730316, 0.30418574810028076, -0.10981765389442444, -0.22592106461524963, -0.2517668604850769, 0.2093479037284851, 0.6642520427703857, -0.7305788993835449, -0.5318758487701416, -0.6322283744812012, 0.16326971352100372, -0.19700980186462402, 0.5671759247779846, 0.045820288360118866, 0.11296164244413376, 0.046041566878557205, -0.25472086668014526, -0.27581843733787537, -0.2673889100551605, -0.06601707637310028, -0.5721077919006348, -0.4093848466873169, 0.05036035552620888, 0.04978498816490173, -0.40878909826278687, 0.318364679813385, -0.18540942668914795, 0.3562081456184387, -0.7079913020133972, 0.23803091049194336, -0.1389271765947342, 0.15036536753177643, -0.15140578150749207, -0.22907879948616028, -0.5543035268783569, 0.47028428316116333, -0.3611840009689331, 0.06712762266397476, -0.9831209778785706, 0.03806129842996597, -0.2601676881313324, -0.8784556984901428, 0.15544497966766357, 0.0622301809489727, -0.28061753511428833, -0.04911978542804718, -0.4613828659057617, 0.14674155414104462, 0.11281228810548782, 0.07235636562108994, -0.006553169339895248, -0.1994977593421936, -0.4285949468612671, -0.0933280736207962, 0.493061900138855, 0.3490583300590515, 0.5337870121002197, -0.6588889360427856, 0.045836396515369415, -0.0009076278656721115, 0.0008338959887623787, -0.5867363810539246, -0.1835126429796219, -0.38738778233528137, 0.3237760066986084, -0.5682186484336853, -0.015636298805475235, -0.40193599462509155, -0.16015766561031342, -1.1342835426330566, 0.07503040879964828, -0.49618175625801086, -0.2737133502960205, -0.3556031882762909, -1.1944551467895508, 0.17537136375904083, -0.3113342225551605, -0.46035540103912354, 0.09359119832515717, 0.051957301795482635, 0.03936629742383957, 0.1454101949930191, -0.7978482246398926, -0.7379816770553589, -0.3290061056613922, 0.33256709575653076, 0.29788967967033386, 0.12386070191860199, -0.23981116712093353, 0.08694259822368622, -0.8012089729309082, -0.1256992518901825, -0.5478410720825195, 0.0979112833738327, -0.06723840534687042, -0.6414353847503662, -0.13357095420360565, -0.12625890970230103, 0.15185706317424774, -0.596234917640686, -0.3041748106479645, 0.17042207717895508, -0.5044697523117065, 0.46423572301864624, 0.10456425696611404, 0.3489077091217041, 0.43814027309417725, -0.3721960783004761, 0.06589867174625397, -0.4609501361846924, 0.6004372239112854, -0.09846748411655426, 0.28415417671203613, -0.06884701550006866, -0.5210183262825012, 0.41905122995376587, -0.687358021736145, -0.07705919444561005, -0.09333265572786331, 0.06538279354572296, -0.7111288905143738, 0.1343768835067749, -0.020740987733006477, -0.24247407913208008, 0.3996812403202057, -0.3359552025794983, 0.315765380859375, 0.9515315890312195, -0.42045727372169495, -0.539242148399353, 0.30160364508628845, -0.25018298625946045, 0.022636735811829567, -0.21300533413887024, 0.26303631067276, -0.5499380230903625, 0.15075963735580444, 0.21331264078617096, -0.7700773477554321, -0.051501624286174774, -0.09944421797990799, -0.12787386775016785, -0.3613157272338867, 0.025745075196027756, 0.44758182764053345, 0.541911244392395, 0.06689566373825073, 0.3393042981624603, 0.13731545209884644, -0.04062724858522415, 0.5741491317749023, -0.5725034475326538, -0.3219205439090729, -0.45880240201950073, 0.491923451423645, 0.06295211613178253, -0.04753264784812927, -0.08314291387796402, 1.4553027153015137, -0.10810550302267075, 0.12382577359676361, 0.5632447004318237, 0.7633868455886841, 0.27352550625801086, -0.2836094796657562, -0.34211093187332153, -0.1881682276725769, 0.29150548577308655, 1.1268010139465332, -0.3111121952533722, -0.41610491275787354, -0.3889954388141632, -0.7341945767402649, 0.3393958806991577, 1.2025704383850098, 0.4930567145347595, -0.06106428802013397, -0.21614554524421692, -0.2522940933704376, 0.04459741711616516, -0.35247063636779785, 0.03715093433856964, -0.36209115386009216, -0.3645959496498108, 0.01819033920764923, 0.6663735508918762, 0.7004412412643433, -0.07814285159111023, -0.23514322936534882, 0.3482530117034912, -0.0033685090020298958, -0.3798864483833313, 0.3524797558784485, 0.1263999044895172, 0.17675411701202393, 0.3770550489425659, 0.020287664607167244, 0.005916072055697441, -0.21073013544082642, 0.27897849678993225, 0.06546028703451157, -0.8135645389556885, -0.15669558942317963, 0.43142184615135193, -0.07802651822566986, -0.8574988842010498, -0.1737898290157318, -0.6600567102432251, 0.15429405868053436, 0.012835917063057423, -0.046911854296922684, -0.18991246819496155, 0.12821415066719055, 0.3257695734500885, -0.6769995093345642, 0.5602017641067505, -0.9247041940689087, -0.49339979887008667, -0.0713670626282692, 0.3048708438873291, -0.03708595037460327, 0.0740278884768486, 0.41232171654701233, 0.007610758766531944, 0.07371718436479568, -0.3338945508003235, 0.28012558817863464, -0.11735178530216217, -0.7435368299484253, 0.1673744022846222, 0.03509942442178726, -0.14854450523853302, 0.4761171042919159, -0.4467284083366394, 0.48537853360176086, -0.04851502925157547, -0.014130985364317894, -0.3120730519294739, -0.2188907265663147, 0.03195206820964813, -0.028322063386440277, 0.6424698829650879, -0.6071505546569824, -0.31680741906166077, 0.14658057689666748, 0.2317175567150116, -0.20466269552707672, -0.32743412256240845, -0.7159491777420044, -0.981728196144104, -0.33052390813827515, -0.36806720495224, 0.3710486888885498, -0.23917855322360992, -0.5822392702102661, -0.2152015119791031, 0.37182140350341797, 0.48424673080444336, -0.16380633413791656, -0.4630713164806366, -0.038175277411937714, -0.12474650889635086, -0.5905054807662964, -0.11781936883926392, -0.18983811140060425, -0.463845431804657, -0.14985883235931396, 0.38374844193458557, -0.034642551094293594, 0.43158355355262756, -0.7002631425857544, 0.1237688660621643, -0.4890798330307007, 0.02078685723245144, -0.14448316395282745, -0.15869319438934326, 0.9729843139648438, 0.332336962223053, 0.09016013890504837, -0.7335413098335266, 0.05742334574460983, -0.5723065137863159, 0.21496911346912384, -0.44866621494293213, -0.2993273437023163, 0.6746267676353455, -0.6962857842445374, 0.42796576023101807, -0.5699931979179382, 0.021035179495811462, -0.2497262954711914, -0.6041082143783569, -0.06251189857721329, 0.39982426166534424, 0.1761452853679657, 0.37332093715667725, -0.12860557436943054, 0.3536146879196167, -0.07157458364963531, 0.9991690516471863, 0.17569351196289062, -0.25721752643585205, -0.30101490020751953, 0.38256120681762695, 0.31083935499191284, 0.5050193071365356, 0.007476287893950939, -0.39416730403900146, -0.4566892385482788, 0.24499785900115967, 0.5422482490539551, -0.3955724537372589, 0.1068306714296341, 0.4106867015361786, 0.041390009224414825, -0.4470183551311493, 0.893947422504425, -0.01206571701914072, -0.17469927668571472, -0.22071999311447144, 0.1019340306520462, 0.3841506540775299, -0.7689944505691528, -0.4951193034648895, -0.24072247743606567, -0.35199299454689026, -0.5450272560119629, -0.10386356711387634, -0.24801310896873474, 0.42301464080810547, -0.32112783193588257, -0.03912602365016937, 0.07364222407341003, 0.13120509684085846, 0.16800832748413086, -0.4837530255317688, -0.11690694093704224, 0.011309713125228882, 0.367870569229126, 0.019465705379843712, -0.007251011207699776, -0.2317175418138504, 0.13720662891864777, -0.28885790705680847, -0.25603601336479187, 0.14733077585697174, 0.32123491168022156, -0.20803305506706238, -0.29526960849761963, 0.21912352740764618, -1.0892155170440674, 0.18093645572662354, -0.4631693959236145, -0.19580724835395813, 0.09925726056098938, 0.029993899166584015, 0.1247919350862503, -0.6605398654937744, 0.1498861312866211, -0.21813276410102844, -0.24661637842655182, 0.5358493328094482, 0.052277807146310806, -0.31414246559143066, -0.049465883523225784, -0.16537319123744965, -0.45258235931396484, -0.6116840839385986, -0.02488946169614792, 1.123049020767212, -0.763826310634613, 0.16564229130744934, -0.21266312897205353, -0.08355975151062012, 0.34070155024528503, 0.12863868474960327, 0.5086066126823425, 0.5699155926704407, -0.26813632249832153, -0.36466777324676514, -0.3436390459537506, -0.3848118185997009, -0.35943782329559326, 0.18324513733386993, -0.19429665803909302, 0.2929566502571106, -0.09040588140487671, 0.16979536414146423, 0.1695292741060257, -0.033786382526159286, -0.04244904965162277, -0.3400643467903137, 0.6416693925857544, -0.6418570280075073, -0.3923867344856262, 0.3401103615760803, -0.11497008800506592, -0.26221948862075806, 0.12181177735328674, -0.400604784488678, -0.16211095452308655, 0.24404607713222504, -0.02702922374010086, 0.020306775346398354, 0.17032894492149353, -0.22893637418746948, 0.45929819345474243, 0.33652734756469727, 0.45158255100250244, -0.2916408181190491, 0.09473536908626556, 0.1745283305644989, 0.02737785130739212, -0.07499207556247711, 0.2105015516281128, 0.02197621762752533, -0.45499387383461, 0.3373521566390991, -0.49782872200012207, -0.19206096231937408, -0.6103741526603699, 0.08398489654064178, -0.21578046679496765, -0.056125707924366, 0.4386138916015625, -0.2000337690114975, -0.5632341504096985, -0.19996917247772217, -0.2666087746620178, -1.1183242797851562, -0.35986435413360596, 0.15532562136650085, -0.4029735326766968, 0.6852954626083374, -0.07542601972818375, 0.14020797610282898, 0.08930963277816772, 0.032771192491054535, -0.45453500747680664, -0.87645423412323, 0.580069899559021, 0.01713479682803154, -0.06658348441123962, -0.03622905910015106, 0.18024198710918427, -0.6380919814109802, -0.173316091299057, -0.736074686050415, -0.05406123399734497, -0.16839313507080078, 0.17318829894065857, 0.41128969192504883, -0.42630529403686523, 0.4152882397174835, 0.04334275424480438, 0.3946494460105896, 0.07929058372974396, -0.3889463543891907, -0.06598766148090363, -0.00658797100186348, 0.15224961936473846, 0.7957441806793213, -0.0867270678281784, 0.3319409489631653, 0.58617103099823, -0.2551180124282837, -0.18899276852607727, -1.044804334640503, 0.2324943244457245, -0.16408264636993408, -0.05634583532810211, 0.0778130516409874, 0.15111544728279114, -0.40032443404197693, 0.2651652693748474, 0.4339284896850586, 0.25174227356910706, -0.1749948114156723, -0.35806041955947876, -0.4709922969341278, 0.025355253368616104, 0.6047924160957336, -0.3983578681945801, 0.2574981153011322, -0.016198236495256424, -0.3188404440879822, -0.14873351156711578, -0.21420066058635712, 0.43160176277160645, -0.3992154002189636, -0.1904696524143219, 0.3199769854545593, -0.8650479316711426, -0.41115057468414307, 0.28346318006515503, 0.4967947006225586, -0.23151306807994843, 0.6288801431655884]\n"
     ]
    }
   ],
   "source": [
    "from langchain_huggingface import HuggingFaceEmbeddings\n",
    "from langchain_core.vectorstores import InMemoryVectorStore\n",
    "from langchain_experimental.text_splitter import SemanticChunker\n",
    "\n",
    "# embeddings = HuggingFaceEmbeddings(model_name=\"rufimelo/bert-large-portuguese-cased-sts\")\n",
    "\n",
    "model_name = \"rufimelo/bert-large-portuguese-cased-sts\"\n",
    "# model_kwargs = {'device': 'cpu'}\n",
    "model_kwargs = {'device': 'cuda'}\n",
    "encode_kwargs = {'normalize_embeddings': False}\n",
    "embeddings = HuggingFaceEmbeddings(\n",
    "        model_name=model_name,\n",
    "        model_kwargs=model_kwargs,\n",
    "        encode_kwargs=encode_kwargs,\n",
    "    )\n",
    "\n",
    "embedding_vector = embeddings.embed_documents(docs)\n",
    "\n",
    "# vector_store = InMemoryVectorStore(embeddings)\n",
    "# text_splitter = SemanticChunker(embeddings, breakpoint_threshold_type=\"gradient\", breakpoint_threshold_amount  = 0.5)\n",
    "\n",
    "# texts = text_splitter.create_documents(docs)\n",
    "# document_ids = vector_store.add_documents(documents=texts)\n",
    "# texts[0]"
   ]
  },
  {
   "cell_type": "markdown",
   "id": "208222b9f9026f74",
   "metadata": {},
   "source": [
    "Os embeddings são vetores numéricos que normalizam os textos/palavras, tornando eles comparáveis e possíveis de analogias. Um exemplo clássico é o vetor para \"Rei\" - \"Homem\" + \"Mulher\" = \"Rainha\". Esse tipo de comparação é possível devido a forma como os embeddings são criados, onde palavras que possuem significados semelhantes estão próximas uma da outra. No caso, estamos fazendo o embedding dos trechos de textos que temos, e não das palavras. Isso é importante para que possamos comparar os trechos de textos entre si e com a pergunta que será feita."
   ]
  },
  {
   "cell_type": "markdown",
   "id": "841aafb065cbb431",
   "metadata": {},
   "source": [
    "No exemplo acima, recortamos os textos das páginas do blog sobre _Machine_ _Learning_ em 425 recortes de texto diferentes, utilizando a métrica que observa a semantica dentro dos textos para fazer o recorte. Esses recortes irão servir como _input_ para o RAG, onde vamos comparar a pergunta feita com os recortes de texto, buscando aqueles que possuem uma maior semelhança com a pergunta. Esse método aumenta a acurácia da resposta, pois a AI generativa irá utilizar esses recortes para gerar a resposta, e não os textos completos ou os textos pré-treinados da AI."
   ]
  },
  {
   "cell_type": "markdown",
   "id": "6ad68e86f9924e2c",
   "metadata": {},
   "source": [
    "## **Criação dos _Clusters_**\n",
    "\n",
    "Agora já temos os textos que vamos usar, podemos pedir para o computador observar quantos clusters deveriamos ter na nossa base e em seguida formatar esses clusters"
   ]
  },
  {
   "cell_type": "code",
   "execution_count": 20,
   "id": "2364e65f",
   "metadata": {},
   "outputs": [
    {
     "data": {
      "image/png": "[encoded data removed]",
      "text/plain": [
       "<Figure size 800x400 with 1 Axes>"
      ]
     },
     "metadata": {},
     "output_type": "display_data"
    }
   ],
   "source": [
    "# Elbow method para definir o número ideal de clusters no corpus\n",
    "import matplotlib.pyplot as plt\n",
    "from sklearn.cluster import KMeans\n",
    "\n",
    "# Exemplo: usando TF-IDF dos documentos do corpus\n",
    "tfidf_vect = TfidfVectorizer(analyzer='word', token_pattern=r'\\w{1,}', max_features=5000)\n",
    "X = tfidf_vect.fit_transform(docs)\n",
    "\n",
    "wcss = []\n",
    "max_k = 10  # Número máximo de clusters a testar\n",
    "for k in range(1, max_k+1):\n",
    "    kmeans = KMeans(n_clusters=k, random_state=42)\n",
    "    kmeans.fit(X)\n",
    "    wcss.append(kmeans.inertia_)\n",
    "\n",
    "plt.figure(figsize=(8, 4))\n",
    "plt.plot(range(1, max_k+1), wcss, marker='o')\n",
    "plt.title('Método do Cotovelo (Elbow) no Corpus')\n",
    "plt.xlabel('Número de clusters')\n",
    "plt.ylabel('WCSS (Soma das Distâncias Quadradas)')\n",
    "plt.show()\n",
    "\n",
    "# O \"cotovelo\" do gráfico indica o número ideal de clusters para o corpus."
   ]
  },
  {
   "cell_type": "code",
   "execution_count": 29,
   "id": "7b231ed177828668",
   "metadata": {
    "ExecuteTime": {
     "end_time": "2025-05-03T20:49:30.988029Z",
     "start_time": "2025-05-03T20:49:27.875733Z"
    }
   },
   "outputs": [
    {
     "name": "stderr",
     "output_type": "stream",
     "text": [
      "d:\\anaconda3\\Lib\\site-packages\\sklearn\\cluster\\_kmeans.py:1419: UserWarning: KMeans is known to have a memory leak on Windows with MKL, when there are less chunks than available threads. You can avoid it by setting the environment variable OMP_NUM_THREADS=1.\n",
      "  warnings.warn(\n",
      "d:\\anaconda3\\Lib\\site-packages\\sklearn\\cluster\\_kmeans.py:1419: UserWarning: KMeans is known to have a memory leak on Windows with MKL, when there are less chunks than available threads. You can avoid it by setting the environment variable OMP_NUM_THREADS=1.\n",
      "  warnings.warn(\n",
      "d:\\anaconda3\\Lib\\site-packages\\sklearn\\cluster\\_kmeans.py:1419: UserWarning: KMeans is known to have a memory leak on Windows with MKL, when there are less chunks than available threads. You can avoid it by setting the environment variable OMP_NUM_THREADS=1.\n",
      "  warnings.warn(\n",
      "d:\\anaconda3\\Lib\\site-packages\\sklearn\\cluster\\_kmeans.py:1419: UserWarning: KMeans is known to have a memory leak on Windows with MKL, when there are less chunks than available threads. You can avoid it by setting the environment variable OMP_NUM_THREADS=1.\n",
      "  warnings.warn(\n",
      "d:\\anaconda3\\Lib\\site-packages\\sklearn\\cluster\\_kmeans.py:1419: UserWarning: KMeans is known to have a memory leak on Windows with MKL, when there are less chunks than available threads. You can avoid it by setting the environment variable OMP_NUM_THREADS=1.\n",
      "  warnings.warn(\n",
      "d:\\anaconda3\\Lib\\site-packages\\sklearn\\cluster\\_kmeans.py:1419: UserWarning: KMeans is known to have a memory leak on Windows with MKL, when there are less chunks than available threads. You can avoid it by setting the environment variable OMP_NUM_THREADS=1.\n",
      "  warnings.warn(\n",
      "d:\\anaconda3\\Lib\\site-packages\\sklearn\\cluster\\_kmeans.py:1419: UserWarning: KMeans is known to have a memory leak on Windows with MKL, when there are less chunks than available threads. You can avoid it by setting the environment variable OMP_NUM_THREADS=1.\n",
      "  warnings.warn(\n",
      "d:\\anaconda3\\Lib\\site-packages\\sklearn\\cluster\\_kmeans.py:1419: UserWarning: KMeans is known to have a memory leak on Windows with MKL, when there are less chunks than available threads. You can avoid it by setting the environment variable OMP_NUM_THREADS=1.\n",
      "  warnings.warn(\n",
      "d:\\anaconda3\\Lib\\site-packages\\sklearn\\cluster\\_kmeans.py:1419: UserWarning: KMeans is known to have a memory leak on Windows with MKL, when there are less chunks than available threads. You can avoid it by setting the environment variable OMP_NUM_THREADS=1.\n",
      "  warnings.warn(\n",
      "d:\\anaconda3\\Lib\\site-packages\\sklearn\\cluster\\_kmeans.py:1419: UserWarning: KMeans is known to have a memory leak on Windows with MKL, when there are less chunks than available threads. You can avoid it by setting the environment variable OMP_NUM_THREADS=1.\n",
      "  warnings.warn(\n"
     ]
    },
    {
     "data": {
      "image/png": "[encoded data removed]",
      "text/plain": [
       "<Figure size 800x400 with 1 Axes>"
      ]
     },
     "metadata": {},
     "output_type": "display_data"
    }
   ],
   "source": [
    "# Elbow method para definir o número ideal de clusters no corpus\n",
    "import matplotlib.pyplot as plt\n",
    "from sklearn.cluster import KMeans\n",
    "\n",
    "X = embedding_vector\n",
    "\n",
    "wcss = []\n",
    "max_k = 10  # Número máximo de clusters a testar\n",
    "for k in range(1, max_k+1):\n",
    "    kmeans = KMeans(n_clusters=k, random_state=42)\n",
    "    kmeans.fit(X)\n",
    "    wcss.append(kmeans.inertia_)\n",
    "\n",
    "plt.figure(figsize=(8, 4))\n",
    "plt.plot(range(1, max_k+1), wcss, marker='o')\n",
    "plt.title('Método do Cotovelo (Elbow) no Corpus')\n",
    "plt.xlabel('Número de clusters')\n",
    "plt.ylabel('WCSS (Soma das Distâncias Quadradas)')\n",
    "plt.show()\n",
    "\n",
    "# O \"cotovelo\" do gráfico indica o número ideal de clusters para o corpus."
   ]
  },
  {
   "cell_type": "code",
   "execution_count": 30,
   "id": "7399f197",
   "metadata": {},
   "outputs": [
    {
     "name": "stdout",
     "output_type": "stream",
     "text": [
      "Cluster labels: [2 2 4 3 2 2 3 4 4 1 1 1 2 2 2 2 2 1 0 0 4 4 2 2 4 4 0 3 2 2 4 4 2 2 4 4 3\n",
      " 0 3 3 4 1 2 4 4 4 2 4 4 0 2 3 4 4 1 2 4 4 4 2 3 1 3 4 2 1 3 2 2 2 4 4 4 1\n",
      " 2 3 4 3 4 1 1 2 1 4 1 2 2 0 4 4 3 3 2 2 4 2 1 4 4 4]\n",
      "Indices of nearest neighbors for first text: [[ 0 99 81]]\n"
     ]
    },
    {
     "name": "stderr",
     "output_type": "stream",
     "text": [
      "d:\\anaconda3\\Lib\\site-packages\\sklearn\\cluster\\_kmeans.py:1419: UserWarning: KMeans is known to have a memory leak on Windows with MKL, when there are less chunks than available threads. You can avoid it by setting the environment variable OMP_NUM_THREADS=1.\n",
      "  warnings.warn(\n"
     ]
    }
   ],
   "source": [
    "from sklearn.cluster import KMeans\n",
    "from sklearn.neighbors import NearestNeighbors\n",
    "import numpy as np\n",
    "\n",
    "# Suppose 'texts' is your list of Document objects and 'embeddings' is your HuggingFaceEmbeddings instance\n",
    "\n",
    "# Step 1: Get embeddings for each text chunk\n",
    "X = embeddings.embed_documents(docs)  # shape: (n_texts, embedding_dim)\n",
    "\n",
    "# Step 2: Cluster the embeddings\n",
    "n_clusters = 5  # Choose the number of clusters\n",
    "kmeans = KMeans(n_clusters=n_clusters, random_state=42)\n",
    "labels = kmeans.fit_predict(X)\n",
    "\n",
    "# Step 3: Find nearest neighbors for a given text\n",
    "knn = NearestNeighbors(n_neighbors=3, metric='cosine')\n",
    "knn.fit(X)\n",
    "distances, indices = knn.kneighbors([X[0]])  # Find 3 nearest neighbors for the first text\n",
    "\n",
    "print(\"Cluster labels:\", labels)\n",
    "print(\"Indices of nearest neighbors for first text:\", indices)"
   ]
  },
  {
   "cell_type": "code",
   "execution_count": 45,
   "id": "0e0ded7a",
   "metadata": {},
   "outputs": [
    {
     "name": "stdout",
     "output_type": "stream",
     "text": [
      "Cluster 0:\n",
      "O(a) requerente é correntista de longa data do BANCO BRADESCO S/A, tendo conta corrente nº 585738-4, agência 5792, há mais de 5 anos. É certo que o(a) requerente sempre zelou pela correta manutenção de sua conta corrente, impondo-se um rigoroso controle das finanças visando assegurar o sustento próprio e de sua família, assim como a satisfatória mantença do lar.  Ocorre que após a parte autora perceber em 09/03/2020 e 09/04/2021, cada vez mais a redução no valor de seu benefício, procurou sua agência bancária e lá foi informado (a) que o desconto era proveniente de um descontos denominado PAGTO ELETRON COBRANCA BRADESCO SEGUROS - RESIDENCIAL, serviço este nunca contratado pelo(a) requerente.  O desconto inesperado deixou a conta do(a) requerente com saldo negativo e lhe impossibilitou o adimplemento de suas despesas. Ademais o serviço PAGTO ELETRON COBRANCA BRADESCO SEGUROS - RESIDENCIAL, totalizou R$ 445,80 (quatrocentos e quarenta cinco reais e oitenta centavos).  Como o(a) requerente jamais fez a contratação de qualquer serviço e sem saber motivo dos descontos, decidiu ir até a agência e questionar sobre o ocorrido solicitando a devolução do valor. Na agência bancária o(a) requerente foi atendido(a) e, diante da explanação do problema, recebeu apenas respostas vagas, de que a situação seria averiguada pelo departamento competente.  Desde então o(a) requerente vem buscando uma solução para o problema, mas o banco trata a situação com imenso descaso, nada fazendo para apresentar uma resposta definitiva. Assim, o Poder Judiciário se mostra a última alternativa do(a) requerente para se ver livre da opressão financeira imposta pela requerida razão pela qual busca por meio da presente ação a devolução da quantia debitada e o que mais entende de direito. CONFORME TABELA A SEGUIR:  09/03/2020 PAGTO ELETRON COBRANCA BRADESCO AUTO RE S/A 0000001 299,90  09/04/2021 PAGTO ELETRON COBRANCA BRADESCO SEGUROS - RESIDENCIAL/O 0000002 145,90\n",
      "------------------------------------------------------------\n",
      "Cluster 1:\n",
      "DOS FATOS A parte Requerente é titular da conta corrente Agência: 1999 / Conta: 111308-9 através do Banco Bradesco S/A, documento em anexo. Ao analisar minuciosamente seu extrato bancário a parte Requerente constatou que em OUTUBRO DE 2016, SEM ANUÊNCIA, CONTRATAÇÃO OU AVISO PRÉVIO, o Requerido debitou de sua conta-corrente um valor denominado AQUISICAO/DEVOLUCAO-SEG, conforme extrato em anexo. É OPORTUNO SALIENTAR QUE A PARTE REQUERENTE DESCONHECE COMPLETAMENTE A ORIGEM DE TAL DÉBITO, POIS, JAMAIS CONTRATOU E/OU ADQUIRIU O REFERIDO SERVIÇO JUNTO AO REQUERIDO!  Página 3 R Sendo assim, Excelência, consoante se verifica no caso em apreço, percebe- se de pronto que se está diante de incontroversas ilegalidades, configurando clarividente prática de que afronta diretamente o Código de proteção ao consumidor, devendo o requerido realizar a devolução dobrada dos valores ilegalmente debitados na conta- corrente da parte Autor, conforme disposição do Código de Defesa do Consumidor. Dessa feita, conforme se demonstra nos extratos apensados nos autos e planilha detalhada inframencionada, desde OUTUBRO DE 2016 , foram realizados o descontos na conta-corrente da parte Requerente, totalizando-se o montante já corrigidos pelo INPC-IBGE R$ 902,00 (novecentos e dois reais), o que é um absurdo, pois, a parte requerente NÃO CONTRATOU O REFERIDO SERVIÇO/PRODUTO. VALORES DESCONTADOS INDEVIDAMENTE (AQUISICAO/DEVOLUCAO-SEG) Desta feita, Ínclito Julgador, é indubitável que a resposta do Direito a uma situação do gênero não pode passar impune, ou se configurar através de uma simples devolução dobrada de valores, pois tal apenas serve de INCENTIVO, de BÔNUS para a estratégia empresarial adotada, pois os benefícios obtidos com ela são muito superiores aos valores despendidos com o ressarcimento daqueles que reclamam. In casu, trata-se daquilo que vem sendo chamado de MICROLESÃO INDIVIDUAL, MAS COLETIVAMENTE RELEVANTE, o que, enseja a condenação da empresa requerida ao pagamento de danos morais ante as ilegalidades, aos aborrecimentos e constrangimentos acima da esfera do aceitável, transtornos estes que de plano se comprovam, isto é, o desrespeito, à perturbação moral e a prática de abusividade das condutas praticadas, condutas estas, totalmente repugnadas pelo Direito. Insta salientar que o requerente nunca solicitou tal serviço, também não autorizou tais débitos. Destarte, o requerente vem a este respeitável juízo, amparado pelo Código de defesa ao Consumidor, rogar pelo ressarcimento em dobro do valor debitado, acrescido de correção monetária e juros legais, assim como indenização por danos morais,  Página 4 R pelo ato ilícito cometido, bem como, pelo efeito pedagógico. III - \n",
      "------------------------------------------------------------\n",
      "Cluster 2:\n",
      "DOS FATOS A Autora é titular da conta bancária de no 26477-6, agência 79 da instituição bancária BANCO BRADESCO S.A e vem sofrendo com o assédio financeiro e a incessante busca de lucros que estão lhe causando infortúnios financeiros e emocional. Com efeito, devido a sua idade avançada, não acessa com frequência seu extrato bancário, da mesma forma, nunca realizou contratação de serviços com a parte Ré que tornasse legítimos qualquer desconto em seus poucos ganhos previdenciários. Ocorre que, ao consultar o extrato pormenorizado de sua conta bancária, ressalta-se, devido a idade avançada mal consegue utilizar sua conta, a Autora tomou conhecimento de que a alguns anos, vem sendo indevidamente descontados parcelas mensais referentes a serviços de seguro que nunca contratou, sequer sabe de que se trata. Conforme se verifica no print entabulado abaixo, a cobrança indevida é identificada como BRADESCO SEG RESID OUTROS, foi implementada em 18/02/2025 no valor de R$ 952,83(novecentos e cinquenta e dois reais e oitenta e três centavos). EXTRATO BANCÁRIO EM ANEXO. Para conferir o original, acesse o site informe o processo 1001385-23.2025.8.26.0411 e código QNGVYd2B.  5 E Data máxima vênia Excelência, a parte Autora não realizou tal contratação, muito menos autorizou tais descontos em sua conta bancária, ressalta-se, considerando o valor recebido pelo a Autor, o valor mensal descontado é consideravelmente alto. Trata-se de desconto indevido, pois, não houve contratação ou autorização, desde já requer a devolução por indébito do valor descontado. Deste modo, ante ao prejuízo que sofreu e devido a não ter autorizado nenhum desconto em sua conta, não restou alternativa a não ser a de buscar as vias judiciais para fazer cessar tal ilegalidade. 4 - DA RESPONSABILIDADE DO BANCO BRADESCO S.A. Excelência, a Autora é idosa e dado a sua idade avançada está fisicamente debilitado, portanto, não visita a insti- tuição bancária com frequência, de modo que, o BANCO BRADESCO é responsável por gerir sua conta bancária e onde recebe seus proventos oriundos de seu benefício previdenciário. Para conferir o original, acesse o site informe o processo 1001385-23.2025.8.26.0411 e código QNGVYd2B.  6 E contrato firmado entre a instituição e o cliente ou ter sido o respectivo serviço previamente autorizado ou solicitado pelo cliente ou pelo usuário. Observa-se como mais grave a cobrança indevida por parte da primeira Requerida, porém não é de se ignorar que o Banco Bradesco, gestor da conta bancaria, permitiu que fosse des- contado os valores sem sequer informar o Requerente. Assim, é inegável a antijuridicidade das cobranças efetuadas, igualmente reprovável a conduta Banco Bradesco que autorizou os descontos anuiu com a prática lesiva ao direito do Requerente. 5 - \n",
      "------------------------------------------------------------\n",
      "Cluster 3:\n",
      "DOS FATOS A Autora é cliente da instituição financeira Requerida, vinculada à Agência 3716-8, titular da Conta Corrente no 1034-0, mantendo com esta uma relação voltada para pequenas movimentações financeiras, tais como o recebimento de salário, saques e transferências. Entretanto, ao proceder à análise de seus extratos bancários, a Autora identificou descontos mensais recorrentes sob a rubrica BRADESCO VIDA E PREVIDÊNCIA , referentes a um suposto seguro bancário. Um fator que chamou atenção foi que os descontos referente ao seguro iniciaram no mesmo dia que fora liberado um empréstimo pessoal na conta da requerente, conforme se verifica abaixo: Tal coincidência temporal entre a liberação do crédito e o início dos descontos sob a rubrica BRADESCO VIDA E PREVIDÊNCIA levanta sérias suspeitas de que o referido seguro tenha sido vinculado de forma automática à concessão do empréstimo, configurando possível prática de venda casada , vedada expressamente pelo artigo 39, inciso I, do Código de Defesa do Consumidor. Ressalte-se, ainda, que a Autora não firmou qualquer contrato específico autorizando a contratação do seguro ou a realização dos descontos mensais, tampouco lhe foram fornecidas informações claras, prévias e adequadas sobre o produto. A ausência de manifestação livre, consciente e informada da Autora quanto à contratação do seguro evidencia a inexistência de vínculo contratual válido e reforça a natureza abusiva da cobrança.  PJLHG 5EPXH ALW2W HLPFK PROJUDI - Processo: 0002610-19.2025.8.04.3900 - Ref. mov. 1.1 - Assinado digitalmente por Ivane Araujo Sampaio 11/06/2025: JUNTADA DE PETIÇÃO DE INICIAL. Arq: Petição Página 5 Conforme planilha abaixo (também anexada aos autos), considerando o período dos últimos 10 (dez) anos e aplicando-se os devidos acréscimos de correção monetária e juros até o mês de junho de 2025, o montante total indevidamente descontado a título de BRADESCO VIDA E PREVIDÊNCIA perfaz a quantia de R$ 740,86 (setecentos e quarenta reais e oitenta e seis centavos). Tal conduta da Requerida configura evidente desrespeito ao princípio da boa-fé objetiva e vulnera os direitos básicos do consumidor, revelando, ainda, uma tentativa de enriquecimento ilícito às custas da Autora. Diante do exposto, não restou alternativa à Autora senão buscar a tutela jurisdicional para ver cessadas as cobranças indevidas, requerendo, ainda, a devolução dos valores pagos, com repetição do indébito em dobro , nos termos do artigo 42, parágrafo único, do Código de Defesa do Consumidor, bem como a reparação pelos danos materiais e morais decorrentes da conduta ilícita da instituição financeira. 3. \n",
      "------------------------------------------------------------\n",
      "Cluster 4:\n",
      "DOS FATOS 6. A autora, é aposentada, idosa, de baixa escolaridade e hipervulnerável, vem sofrendo descontos mensais em seu benefício previdenciário, a título de cartão de SERVIÇO CARTAO PROTEGIDO supostamente emitido pelo Banco Bradesco, sem que jamais tenha solicitado ou autorizado tal produto financeiro. 7. Ocorre que verificou descontos abusivos e ilegais por parte da Instituição Financeira em sua conta bancária, seja por não terem sido autorizados ou contratados, seja por ser isento nos termos da legislação específica do Banco Central do Brasil como veremos mais. 9. Após tal constatação, com seu patrimônio sendo subtraído, o autor buscou junto à Instituição Financeira informações acerca desses descontos ou um possível contrato/termo de adesão assinado por ela. No entanto, não obteve êxito, porque sequer existia qualquer contrato assinado por ela. 10. A autora sequer firmou qualquer contrato com a Instituição Financeira para que esta fosse autorizada debitar valores de sua conta. Além disso, não teve informações suficientes e adequadas, claras e objetivas sobre os serviços e produtos disponibilizados pelo banco e o que de fato estava possivelmente sendo contratado devido a inexistência contratual e consequentemente falta de transparência, sendo compelido a assinar inúmeras laudas no ato de abertura de sua conta Bancária junto à Instituição Financeira. 11. Diante da falta de transparência e má-fé decorrentes da falha na prestação de serviços praticada por parte da Instituição Financeira e não oportunizando nenhuma resolução, não restou o autor outra alternativa senão a busca da tutela judicial. 12. No caso em tela, a autora sofreu diversos descontos por parte do banco demandado, conforme extratos bancários em anexo e planilha resumida abaixo: 13. Referidos descontos dependem de prévio ajuste contratual, conforme artigos 25 e 26 dispostos na SARB no 001/2008  DA FEDERAÇÃO BRASILEIRA DE BANCOS  sobre a contratação de Num. 77864395 - Pág. 3 Assinado eletronicamente por: CESAR DE SANTANA GALVAO PINHEIRO - 23/06/2025 13:43:21 Número do documento: 25062313432063100000072637154 produtos e serviços bancários4. Assim, qualquer produto ou serviço contratado, dependem, obrigatoriamente de um contrato devidamente assinado pela parte autora, com autorização dos descontos, onde deveria constar, minimamente cláusula de débito automático em conta bancária, o que, claramente, não se verifica no presente caso. 14. Conforme foi excessivamente exarado nos autos, a parte autora experimentou diversos descontos, relacionados a um serviço que nunca aderiu, ou seja, a instituição financeira aproveitou-se do poder que detém sobre o seu salário  pois é seu correntista e os créditos provenientes de seu trabalho são depositados diretamente na sua conta. Sendo assim, surge, de fato, o dever de restituir o montante descontado indevidamente. III  \n",
      "------------------------------------------------------------\n"
     ]
    }
   ],
   "source": [
    "# Encontrar o texto mais \"mediano\" de cada cluster (mais próximo do centroide)\n",
    "from scipy.spatial.distance import cdist\n",
    "\n",
    "medians = []\n",
    "for cluster_id in range(n_clusters):\n",
    "    # Índices dos textos no cluster atual\n",
    "    idxs = np.where(labels == cluster_id)[0]\n",
    "    # Vetores dos textos do cluster\n",
    "    cluster_vectors = [X[i] for i in idxs]\n",
    "    # Centroide do cluster\n",
    "    centroid = kmeans.cluster_centers_[cluster_id].reshape(1, -1)\n",
    "    # Distâncias de cada texto ao centroide\n",
    "    dists = cdist(cluster_vectors, centroid)\n",
    "    # Índice do texto mais próximo do centroide\n",
    "    med_idx = idxs[np.argmin(dists)]\n",
    "    medians.append((cluster_id, docs[med_idx]))\n",
    "\n",
    "for cluster_id, text in medians:\n",
    "    print(f\"Cluster {cluster_id}:\\n{text}\\n{'-'*60}\")"
   ]
  }
 ],
 "metadata": {
  "kernelspec": {
   "display_name": "base",
   "language": "python",
   "name": "python3"
  },
  "language_info": {
   "codemirror_mode": {
    "name": "ipython",
    "version": 3
   },
   "file_extension": ".py",
   "mimetype": "text/x-python",
   "name": "python",
   "nbconvert_exporter": "python",
   "pygments_lexer": "ipython3",
   "version": "3.12.7"
  }
 },
 "nbformat": 4,
 "nbformat_minor": 5
}
